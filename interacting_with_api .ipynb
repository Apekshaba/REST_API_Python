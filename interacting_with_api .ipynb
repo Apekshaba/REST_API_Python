{
 "cells": [
  {
   "cell_type": "code",
   "execution_count": 1,
   "metadata": {
    "colab": {},
    "colab_type": "code",
    "id": "V8rC5X-AvVF3"
   },
   "outputs": [],
   "source": [
    "import requests\n",
    "import csv\n",
    "import pandas as pd"
   ]
  },
  {
   "cell_type": "code",
   "execution_count": 18,
   "metadata": {},
   "outputs": [],
   "source": [
    "result = requests.get(\"https://api.github.com/search/repositories?q=is:public\")"
   ]
  },
  {
   "cell_type": "code",
   "execution_count": 3,
   "metadata": {
    "colab": {
     "base_uri": "https://localhost:8080/",
     "height": 55
    },
    "colab_type": "code",
    "id": "PyprcFxWvkCD",
    "outputId": "27581fd0-b7e6-431e-c8d6-662c3ec866f7"
   },
   "outputs": [
    {
     "name": "stdout",
     "output_type": "stream",
     "text": [
      "dict_keys(['id', 'node_id', 'name', 'full_name', 'private', 'owner', 'html_url', 'description', 'fork', 'url', 'forks_url', 'keys_url', 'collaborators_url', 'teams_url', 'hooks_url', 'issue_events_url', 'events_url', 'assignees_url', 'branches_url', 'tags_url', 'blobs_url', 'git_tags_url', 'git_refs_url', 'trees_url', 'statuses_url', 'languages_url', 'stargazers_url', 'contributors_url', 'subscribers_url', 'subscription_url', 'commits_url', 'git_commits_url', 'comments_url', 'issue_comment_url', 'contents_url', 'compare_url', 'merges_url', 'archive_url', 'downloads_url', 'issues_url', 'pulls_url', 'milestones_url', 'notifications_url', 'labels_url', 'releases_url', 'deployments_url', 'created_at', 'updated_at', 'pushed_at', 'git_url', 'ssh_url', 'clone_url', 'svn_url', 'homepage', 'size', 'stargazers_count', 'watchers_count', 'language', 'has_issues', 'has_projects', 'has_downloads', 'has_wiki', 'has_pages', 'forks_count', 'mirror_url', 'archived', 'disabled', 'open_issues_count', 'license', 'forks', 'open_issues', 'watchers', 'default_branch', 'score'])\n"
     ]
    }
   ],
   "source": [
    "#print(type(result))\n",
    "#print(len(result[\"items\"]))\n",
    "print(result[\"items\"][0].keys())"
   ]
  },
  {
   "cell_type": "code",
   "execution_count": 12,
   "metadata": {
    "colab": {},
    "colab_type": "code",
    "id": "uCSK7U6HzzoE"
   },
   "outputs": [],
   "source": [
    "field_names=result[\"items\"][0].keys()\n",
    "with open('data.csv', 'w') as csvfile: \n",
    "    writer = csv.DictWriter(csvfile, fieldnames = field_names) \n",
    "    writer.writeheader() \n",
    "    writer.writerows(result[\"items\"]) "
   ]
  },
  {
   "cell_type": "code",
   "execution_count": 10,
   "metadata": {
    "colab": {
     "base_uri": "https://localhost:8080/",
     "height": 258
    },
    "colab_type": "code",
    "id": "i2-JZMFR0Pjx",
    "outputId": "ffed3ab8-8820-496d-b42a-b908ed1531a4"
   },
   "outputs": [
    {
     "data": {
      "text/html": [
       "<div>\n",
       "<style scoped>\n",
       "    .dataframe tbody tr th:only-of-type {\n",
       "        vertical-align: middle;\n",
       "    }\n",
       "\n",
       "    .dataframe tbody tr th {\n",
       "        vertical-align: top;\n",
       "    }\n",
       "\n",
       "    .dataframe thead th {\n",
       "        text-align: right;\n",
       "    }\n",
       "</style>\n",
       "<table border=\"1\" class=\"dataframe\">\n",
       "  <thead>\n",
       "    <tr style=\"text-align: right;\">\n",
       "      <th></th>\n",
       "      <th>name</th>\n",
       "      <th>html_url</th>\n",
       "      <th>description</th>\n",
       "      <th>stargazers_count</th>\n",
       "      <th>watchers_count</th>\n",
       "      <th>forks_count</th>\n",
       "    </tr>\n",
       "  </thead>\n",
       "  <tbody>\n",
       "    <tr>\n",
       "      <th>0</th>\n",
       "      <td>awesome-python</td>\n",
       "      <td>https://github.com/vinta/awesome-python</td>\n",
       "      <td>A curated list of awesome Python frameworks, l...</td>\n",
       "      <td>85691</td>\n",
       "      <td>85691</td>\n",
       "      <td>16825</td>\n",
       "    </tr>\n",
       "    <tr>\n",
       "      <th>1</th>\n",
       "      <td>Python</td>\n",
       "      <td>https://github.com/TheAlgorithms/Python</td>\n",
       "      <td>All Algorithms implemented in Python</td>\n",
       "      <td>82329</td>\n",
       "      <td>82329</td>\n",
       "      <td>24455</td>\n",
       "    </tr>\n",
       "    <tr>\n",
       "      <th>2</th>\n",
       "      <td>youtube-dl</td>\n",
       "      <td>https://github.com/ytdl-org/youtube-dl</td>\n",
       "      <td>Command-line program to download videos from Y...</td>\n",
       "      <td>69874</td>\n",
       "      <td>69874</td>\n",
       "      <td>12209</td>\n",
       "    </tr>\n",
       "  </tbody>\n",
       "</table>\n",
       "</div>"
      ],
      "text/plain": [
       "             name                                 html_url  \\\n",
       "0  awesome-python  https://github.com/vinta/awesome-python   \n",
       "1          Python  https://github.com/TheAlgorithms/Python   \n",
       "2      youtube-dl   https://github.com/ytdl-org/youtube-dl   \n",
       "\n",
       "                                         description  stargazers_count  \\\n",
       "0  A curated list of awesome Python frameworks, l...             85691   \n",
       "1               All Algorithms implemented in Python             82329   \n",
       "2  Command-line program to download videos from Y...             69874   \n",
       "\n",
       "   watchers_count  forks_count  \n",
       "0           85691        16825  \n",
       "1           82329        24455  \n",
       "2           69874        12209  "
      ]
     },
     "execution_count": 10,
     "metadata": {},
     "output_type": "execute_result"
    }
   ],
   "source": [
    "data=pd.read_csv(\"data.csv\",usecols=['name','description','html_url','watchers_count','stargazers_count','forks_count'])\n",
    "data.head()"
   ]
  },
  {
   "cell_type": "code",
   "execution_count": 11,
   "metadata": {
    "colab": {},
    "colab_type": "code",
    "id": "DBzebvtHvVGi",
    "outputId": "2a6ff68a-bc16-45d3-d7dd-5480466f82c5"
   },
   "outputs": [
    {
     "name": "stdout",
     "output_type": "stream",
     "text": [
      "             name                                 html_url  \\\n",
      "0  awesome-python  https://github.com/vinta/awesome-python   \n",
      "1          Python  https://github.com/TheAlgorithms/Python   \n",
      "2      youtube-dl   https://github.com/ytdl-org/youtube-dl   \n",
      "\n",
      "                                         description  stargazers_count  \\\n",
      "0  A curated list of awesome Python frameworks, l...             85691   \n",
      "1               All Algorithms implemented in Python             82329   \n",
      "2  Command-line program to download videos from Y...             69874   \n",
      "\n",
      "   watchers_count  forks_count  \n",
      "0           85691        16825  \n",
      "1           82329        24455  \n",
      "2           69874        12209  \n"
     ]
    }
   ],
   "source": [
    "print(data)"
   ]
  },
  {
   "cell_type": "code",
   "execution_count": 13,
   "metadata": {
    "colab": {},
    "colab_type": "code",
    "id": "9dVpgx59vVGz"
   },
   "outputs": [
    {
     "name": "stdout",
     "output_type": "stream",
     "text": [
      "Index(['name', 'html_url', 'description', 'stargazers_count', 'watchers_count',\n",
      "       'forks_count'],\n",
      "      dtype='object')\n"
     ]
    }
   ],
   "source": [
    "print(data.keys())"
   ]
  },
  {
   "cell_type": "code",
   "execution_count": null,
   "metadata": {},
   "outputs": [],
   "source": []
  }
 ],
 "metadata": {
  "colab": {
   "collapsed_sections": [],
   "name": "interacting_with_api.ipynb",
   "provenance": []
  },
  "kernelspec": {
   "display_name": "Python 3",
   "language": "python",
   "name": "python3"
  },
  "language_info": {
   "codemirror_mode": {
    "name": "ipython",
    "version": 3
   },
   "file_extension": ".py",
   "mimetype": "text/x-python",
   "name": "python",
   "nbconvert_exporter": "python",
   "pygments_lexer": "ipython3",
   "version": "3.8.2"
  }
 },
 "nbformat": 4,
 "nbformat_minor": 1
}
